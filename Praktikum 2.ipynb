{
 "cells": [
  {
   "cell_type": "markdown",
   "id": "5f68f389",
   "metadata": {},
   "source": [
    "## Import Library"
   ]
  },
  {
   "cell_type": "code",
   "execution_count": 36,
   "id": "8d7a8d31",
   "metadata": {},
   "outputs": [],
   "source": [
    "import numpy as np\n",
    "import cv2# 202331150_Caesar Albaari Azatin"
   ]
  },
  {
   "cell_type": "markdown",
   "id": "78e51d31",
   "metadata": {},
   "source": [
    "## Membaca Citra"
   ]
  },
  {
   "cell_type": "code",
   "execution_count": 37,
   "id": "b3a5cbb2",
   "metadata": {},
   "outputs": [],
   "source": [
    "citra = cv2.imread('buah tin.jpg') # 202331150_Caesar Albaari Azatin"
   ]
  },
  {
   "cell_type": "code",
   "execution_count": 38,
   "id": "5b9fd17b",
   "metadata": {},
   "outputs": [],
   "source": [
    "cv2.imshow(\"citra asli\", citra)\n",
    "cv2.waitKey()\n",
    "cv2.destroyAllWindows()# 202331150_Caesar Albaari Azatin"
   ]
  },
  {
   "cell_type": "markdown",
   "id": "c6ae43ce",
   "metadata": {},
   "source": [
    "## Dimesi Citra"
   ]
  },
  {
   "cell_type": "code",
   "execution_count": 39,
   "id": "2d7bf6e8",
   "metadata": {},
   "outputs": [
    {
     "name": "stdout",
     "output_type": "stream",
     "text": [
      "(270, 267, 3)\n",
      "uint8\n"
     ]
    }
   ],
   "source": [
    "print(citra.shape)\n",
    "print(citra.dtype)# 202331150_Caesar Albaari Azatin"
   ]
  },
  {
   "cell_type": "markdown",
   "id": "2c2f46bc",
   "metadata": {},
   "source": [
    "## Splitting Citra RGB/BGR"
   ]
  },
  {
   "cell_type": "code",
   "execution_count": 40,
   "id": "bea3aad2",
   "metadata": {},
   "outputs": [],
   "source": [
    "b = citra[:,:,0]\n",
    "g = citra[:,:,1]\n",
    "r = citra[:,:,2]# 202331150_Caesar Albaari Azatin"
   ]
  },
  {
   "cell_type": "markdown",
   "id": "300b765c",
   "metadata": {},
   "source": [
    "## RGB to Grayscale"
   ]
  },
  {
   "cell_type": "code",
   "execution_count": 41,
   "id": "3053f793",
   "metadata": {},
   "outputs": [],
   "source": [
    "panjang = len(citra)\n",
    "lebar = len(citra[0])\n",
    "\n",
    "citra_gray = np.zeros((panjang,lebar))\n",
    "\n",
    "for i in range (panjang):\n",
    "    for j in range (lebar) :\n",
    "        citra_gray[i,j] = 0.2989 * r[i,j] +0.1141 * b[i,j]\n",
    "        \n",
    "citra_gray = citra_gray.astype(np.uint8)\n",
    "\n",
    "cv2.imshow(\"citra grayscale\", citra_gray)\n",
    "cv2.waitKey()\n",
    "cv2.destroyAllWindows() # 202331150_Caesar Albaari Azatin"
   ]
  },
  {
   "cell_type": "code",
   "execution_count": 42,
   "id": "88f08628",
   "metadata": {},
   "outputs": [
    {
     "name": "stdout",
     "output_type": "stream",
     "text": [
      "[[[253 253 253]\n",
      "  [253 253 253]\n",
      "  [253 253 253]\n",
      "  ...\n",
      "  [253 253 253]\n",
      "  [253 253 253]\n",
      "  [253 253 253]]\n",
      "\n",
      " [[253 253 253]\n",
      "  [253 253 253]\n",
      "  [253 253 253]\n",
      "  ...\n",
      "  [253 253 253]\n",
      "  [253 253 253]\n",
      "  [253 253 253]]\n",
      "\n",
      " [[253 253 253]\n",
      "  [253 253 253]\n",
      "  [253 253 253]\n",
      "  ...\n",
      "  [253 253 253]\n",
      "  [253 253 253]\n",
      "  [253 253 253]]\n",
      "\n",
      " ...\n",
      "\n",
      " [[253 253 253]\n",
      "  [253 253 253]\n",
      "  [253 253 253]\n",
      "  ...\n",
      "  [253 253 253]\n",
      "  [253 253 253]\n",
      "  [253 253 253]]\n",
      "\n",
      " [[253 253 253]\n",
      "  [253 253 253]\n",
      "  [253 253 253]\n",
      "  ...\n",
      "  [253 253 253]\n",
      "  [253 253 253]\n",
      "  [253 253 253]]\n",
      "\n",
      " [[253 253 253]\n",
      "  [253 253 253]\n",
      "  [253 253 253]\n",
      "  ...\n",
      "  [253 253 253]\n",
      "  [253 253 253]\n",
      "  [253 253 253]]]\n"
     ]
    }
   ],
   "source": [
    "print(citra)# 202331150_Caesar Albaari Azatin"
   ]
  },
  {
   "cell_type": "code",
   "execution_count": 43,
   "id": "1361b286",
   "metadata": {},
   "outputs": [
    {
     "name": "stdout",
     "output_type": "stream",
     "text": [
      "[[104 104 104 ... 104 104 104]\n",
      " [104 104 104 ... 104 104 104]\n",
      " [104 104 104 ... 104 104 104]\n",
      " ...\n",
      " [104 104 104 ... 104 104 104]\n",
      " [104 104 104 ... 104 104 104]\n",
      " [104 104 104 ... 104 104 104]]\n"
     ]
    }
   ],
   "source": [
    "print(citra_gray)# 202331150_Caesar Albaari Azatin"
   ]
  },
  {
   "cell_type": "markdown",
   "id": "a280e70f",
   "metadata": {},
   "source": [
    "## Grayscale to Binary"
   ]
  },
  {
   "cell_type": "code",
   "execution_count": 44,
   "id": "4f8221b9",
   "metadata": {},
   "outputs": [],
   "source": [
    "panjang = len(citra)\n",
    "lebar = len(citra[0])\n",
    "\n",
    "ambang = 90\n",
    "\n",
    "citra_biner = np.zeros((panjang,lebar))\n",
    "\n",
    "for i in range (panjang):\n",
    "    for j in range (lebar):\n",
    "        if citra_gray[i,j] >= ambang:\n",
    "            citra_biner[i,j] = 1  #putih\n",
    "        else:\n",
    "            citra_biner[i,j] = 0  #hitam\n",
    "\n",
    "                \n",
    "cv2.imshow(\"citra binary\", citra_biner)\n",
    "cv2.waitKey()\n",
    "cv2.destroyAllWindows() # 202331150_Caesar Albaari Azatin"
   ]
  },
  {
   "cell_type": "code",
   "execution_count": 45,
   "id": "ff3d5ec2",
   "metadata": {},
   "outputs": [
    {
     "name": "stdout",
     "output_type": "stream",
     "text": [
      "[[104 104 104 ... 104 104 104]\n",
      " [104 104 104 ... 104 104 104]\n",
      " [104 104 104 ... 104 104 104]\n",
      " ...\n",
      " [104 104 104 ... 104 104 104]\n",
      " [104 104 104 ... 104 104 104]\n",
      " [104 104 104 ... 104 104 104]]\n"
     ]
    }
   ],
   "source": [
    "print(citra_gray)# 202331150_Caesar Albaari Azatin"
   ]
  },
  {
   "cell_type": "code",
   "execution_count": 46,
   "id": "e69a5bc9",
   "metadata": {},
   "outputs": [
    {
     "name": "stdout",
     "output_type": "stream",
     "text": [
      "[[1. 1. 1. ... 1. 1. 1.]\n",
      " [1. 1. 1. ... 1. 1. 1.]\n",
      " [1. 1. 1. ... 1. 1. 1.]\n",
      " ...\n",
      " [1. 1. 1. ... 1. 1. 1.]\n",
      " [1. 1. 1. ... 1. 1. 1.]\n",
      " [1. 1. 1. ... 1. 1. 1.]]\n"
     ]
    }
   ],
   "source": [
    "print(citra_biner)# 202331150_Caesar Albaari Azatin"
   ]
  },
  {
   "cell_type": "code",
   "execution_count": 47,
   "id": "9180aa61",
   "metadata": {},
   "outputs": [
    {
     "name": "stdout",
     "output_type": "stream",
     "text": [
      "1.0\n"
     ]
    }
   ],
   "source": [
    "print(citra_biner[50,50])# 202331150_Caesar Albaari Azatin"
   ]
  },
  {
   "cell_type": "code",
   "execution_count": null,
   "id": "bdcb7129",
   "metadata": {},
   "outputs": [],
   "source": []
  }
 ],
 "metadata": {
  "kernelspec": {
   "display_name": "Python 3 (ipykernel)",
   "language": "python",
   "name": "python3"
  },
  "language_info": {
   "codemirror_mode": {
    "name": "ipython",
    "version": 3
   },
   "file_extension": ".py",
   "mimetype": "text/x-python",
   "name": "python",
   "nbconvert_exporter": "python",
   "pygments_lexer": "ipython3",
   "version": "3.11.5"
  }
 },
 "nbformat": 4,
 "nbformat_minor": 5
}
